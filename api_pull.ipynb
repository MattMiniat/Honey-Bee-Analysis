{
 "nbformat": 4,
 "nbformat_minor": 2,
 "metadata": {
  "language_info": {
   "name": "python",
   "codemirror_mode": {
    "name": "ipython",
    "version": 3
   },
   "version": "3.7.4-final"
  },
  "orig_nbformat": 2,
  "file_extension": ".py",
  "mimetype": "text/x-python",
  "name": "python",
  "npconvert_exporter": "python",
  "pygments_lexer": "ipython3",
  "version": 3,
  "kernelspec": {
   "name": "python37464bitbasecondae23b6954b40a4ff4aa0c89b9b80c30af",
   "display_name": "Python 3.7.4 64-bit ('base': conda)"
  }
 },
 "cells": [
  {
   "cell_type": "code",
   "execution_count": 78,
   "metadata": {},
   "outputs": [],
   "source": [
    "import pandas as pd\n",
    "import requests\n",
    "from api_key import quickstats_api\n"
   ]
  },
  {
   "cell_type": "code",
   "execution_count": null,
   "metadata": {},
   "outputs": [],
   "source": []
  },
  {
   "cell_type": "code",
   "execution_count": 80,
   "metadata": {},
   "outputs": [
    {
     "data": {
      "text/html": "<div>\n<style scoped>\n    .dataframe tbody tr th:only-of-type {\n        vertical-align: middle;\n    }\n\n    .dataframe tbody tr th {\n        vertical-align: top;\n    }\n\n    .dataframe thead th {\n        text-align: right;\n    }\n</style>\n<table border=\"1\" class=\"dataframe\">\n  <thead>\n    <tr style=\"text-align: right;\">\n      <th></th>\n      <th>Year</th>\n      <th>State</th>\n      <th>Commodity</th>\n      <th>Data Type</th>\n      <th>Value</th>\n    </tr>\n  </thead>\n  <tbody>\n    <tr>\n      <td>0</td>\n      <td>2018</td>\n      <td>US TOTAL</td>\n      <td>HONEY</td>\n      <td>HONEY, BEE COLONIES - INVENTORY, MEASURED IN C...</td>\n      <td>2,803,000</td>\n    </tr>\n    <tr>\n      <td>1</td>\n      <td>2018</td>\n      <td>US TOTAL</td>\n      <td>HONEY</td>\n      <td>HONEY, BEE COLONIES - INVENTORY, MEASURED IN C...</td>\n      <td>2,635,220</td>\n    </tr>\n    <tr>\n      <td>2</td>\n      <td>2018</td>\n      <td>US TOTAL</td>\n      <td>HONEY</td>\n      <td>HONEY, BEE COLONIES - INVENTORY, MEASURED IN C...</td>\n      <td>2,665,880</td>\n    </tr>\n    <tr>\n      <td>3</td>\n      <td>2018</td>\n      <td>US TOTAL</td>\n      <td>HONEY</td>\n      <td>HONEY, BEE COLONIES - INVENTORY, MEASURED IN C...</td>\n      <td>2,958,790</td>\n    </tr>\n    <tr>\n      <td>4</td>\n      <td>2018</td>\n      <td>US TOTAL</td>\n      <td>HONEY</td>\n      <td>HONEY, BEE COLONIES - INVENTORY, MEASURED IN C...</td>\n      <td>2,868,970</td>\n    </tr>\n    <tr>\n      <td>...</td>\n      <td>...</td>\n      <td>...</td>\n      <td>...</td>\n      <td>...</td>\n      <td>...</td>\n    </tr>\n    <tr>\n      <td>225</td>\n      <td>2018</td>\n      <td>OTHER STATES</td>\n      <td>HONEY</td>\n      <td>HONEY, BEE COLONIES - INVENTORY, MEASURED IN C...</td>\n      <td>36,000</td>\n    </tr>\n    <tr>\n      <td>226</td>\n      <td>2018</td>\n      <td>OTHER STATES</td>\n      <td>HONEY</td>\n      <td>HONEY, BEE COLONIES - INVENTORY, MEASURED IN C...</td>\n      <td>3,820</td>\n    </tr>\n    <tr>\n      <td>227</td>\n      <td>2018</td>\n      <td>OTHER STATES</td>\n      <td>HONEY</td>\n      <td>HONEY, BEE COLONIES - INVENTORY, MEASURED IN C...</td>\n      <td>4,380</td>\n    </tr>\n    <tr>\n      <td>228</td>\n      <td>2018</td>\n      <td>OTHER STATES</td>\n      <td>HONEY</td>\n      <td>HONEY, BEE COLONIES - INVENTORY, MEASURED IN C...</td>\n      <td>6,490</td>\n    </tr>\n    <tr>\n      <td>229</td>\n      <td>2018</td>\n      <td>OTHER STATES</td>\n      <td>HONEY</td>\n      <td>HONEY, BEE COLONIES - INVENTORY, MEASURED IN C...</td>\n      <td>8,370</td>\n    </tr>\n  </tbody>\n</table>\n<p>230 rows × 5 columns</p>\n</div>",
      "text/plain": "     Year         State Commodity  \\\n0    2018      US TOTAL     HONEY   \n1    2018      US TOTAL     HONEY   \n2    2018      US TOTAL     HONEY   \n3    2018      US TOTAL     HONEY   \n4    2018      US TOTAL     HONEY   \n..    ...           ...       ...   \n225  2018  OTHER STATES     HONEY   \n226  2018  OTHER STATES     HONEY   \n227  2018  OTHER STATES     HONEY   \n228  2018  OTHER STATES     HONEY   \n229  2018  OTHER STATES     HONEY   \n\n                                             Data Type      Value  \n0    HONEY, BEE COLONIES - INVENTORY, MEASURED IN C...  2,803,000  \n1    HONEY, BEE COLONIES - INVENTORY, MEASURED IN C...  2,635,220  \n2    HONEY, BEE COLONIES - INVENTORY, MEASURED IN C...  2,665,880  \n3    HONEY, BEE COLONIES - INVENTORY, MEASURED IN C...  2,958,790  \n4    HONEY, BEE COLONIES - INVENTORY, MEASURED IN C...  2,868,970  \n..                                                 ...        ...  \n225  HONEY, BEE COLONIES - INVENTORY, MEASURED IN C...     36,000  \n226  HONEY, BEE COLONIES - INVENTORY, MEASURED IN C...      3,820  \n227  HONEY, BEE COLONIES - INVENTORY, MEASURED IN C...      4,380  \n228  HONEY, BEE COLONIES - INVENTORY, MEASURED IN C...      6,490  \n229  HONEY, BEE COLONIES - INVENTORY, MEASURED IN C...      8,370  \n\n[230 rows x 5 columns]"
     },
     "execution_count": 80,
     "metadata": {},
     "output_type": "execute_result"
    }
   ],
   "source": [
    "honey_data = []\n",
    "honey_data = pd.DataFrame(honey_data)\n",
    "honey_data[\"Year\"] = ''\n",
    "honey_data[\"State\"] = ''\n",
    "\n",
    "params = {\n",
    "    'key': quickstats_api,\n",
    "    'commodity_desc' : 'HONEY',\n",
    "    'short_desc' : 'HONEY, BEE COLONIES - INVENTORY, MEASURED IN COLONIES',\n",
    "    'year' : 2018\n",
    "}\n",
    "\n",
    "base_url = 'https://quickstats.nass.usda.gov/api/api_GET/'\n",
    "\n",
    "\n",
    "response = requests.get(url, params=params).json()\n",
    "# print(response)\n",
    "\n",
    "for x in (range(len(response['data']))):\n",
    "\n",
    "    honey_data.loc[x,'Year'] = response['data'][x]['year']\n",
    "    honey_data.loc[x,'State'] = response['data'][x]['location_desc']\n",
    "    honey_data.loc[x,'Commodity'] = response['data'][x]['commodity_desc']\n",
    "    honey_data.loc[x,'Data Type'] = response['data'][x]['short_desc']\n",
    "    honey_data.loc[x,'Value'] = response['data'][x]['Value']\n",
    "\n",
    "\n",
    "honey_data\n"
   ]
  },
  {
   "cell_type": "code",
   "execution_count": null,
   "metadata": {},
   "outputs": [],
   "source": []
  }
 ]
}