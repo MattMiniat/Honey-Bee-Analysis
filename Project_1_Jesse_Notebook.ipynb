{
 "cells": [
  {
   "cell_type": "code",
   "execution_count": 22,
   "metadata": {},
   "outputs": [],
   "source": [
    "# Import dependencies\n",
    "import pandas as pd\n",
    "import requests"
   ]
  },
  {
   "cell_type": "code",
   "execution_count": 23,
   "metadata": {},
   "outputs": [],
   "source": [
    "# Import api keys\n",
    "from config import api_key"
   ]
  },
  {
   "cell_type": "code",
   "execution_count": 31,
   "metadata": {},
   "outputs": [
    {
     "name": "stdout",
     "output_type": "stream",
     "text": [
      "https://quickstats.nass.usda.gov/api/get_param_values/?key=99FC2831-1586-3877-9197-55D5B97BFE53%20key&param=sector_desc\n"
     ]
    }
   ],
   "source": [
    "payload = {\n",
    "    'api': '99FC2831-1586-3877-9197-55D5B97BFE53'\n",
    "}\n",
    "\n",
    "url = 'http://quickstats.nass.usda.gov/api/get_param_values/?'\n",
    "\n",
    "r = requests.get(url, params=payload)\n",
    "\n",
    "r_json = r.json\n",
    "print(r.url)"
   ]
  },
  {
   "cell_type": "code",
   "execution_count": null,
   "metadata": {},
   "outputs": [],
   "source": []
  }
 ],
 "metadata": {
  "kernelspec": {
   "display_name": "Python 3",
   "language": "python",
   "name": "python3"
  },
  "language_info": {
   "codemirror_mode": {
    "name": "ipython",
    "version": 3
   },
   "file_extension": ".py",
   "mimetype": "text/x-python",
   "name": "python",
   "nbconvert_exporter": "python",
   "pygments_lexer": "ipython3",
   "version": "3.7.4"
  }
 },
 "nbformat": 4,
 "nbformat_minor": 2
}
